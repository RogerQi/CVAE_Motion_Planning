{
 "cells": [
  {
   "cell_type": "code",
   "execution_count": 1,
   "metadata": {},
   "outputs": [
    {
     "name": "stdout",
     "output_type": "stream",
     "text": [
      "PyQt4/PyQt5 are not available... try running \"pip3 install PyQt5\"\n",
      "*** klampt.vis: using GLUT as the visualization backend ***\n",
      "***      Some functionality may not be available!       ***\n",
      "klampt.visualization: QT is not available, falling back to poorer\n",
      "GLUT interface.  Returning to another GLUT thread will not work\n",
      "properly.\n",
      "\n"
     ]
    }
   ],
   "source": [
    "import time\n",
    "from klampt import *\n",
    "from klampt.math import vectorops,so3,se3\n",
    "import math\n",
    "from IPython.display import clear_output\n",
    "import ipywidgets as widgets\n",
    "from klampt.vis.ipython import KlamptWidget\n",
    "from copy import deepcopy\n",
    "\n",
    "from world import arm_n_blocks_world"
   ]
  },
  {
   "cell_type": "code",
   "execution_count": 2,
   "metadata": {},
   "outputs": [
    {
     "data": {
      "application/vnd.jupyter.widget-view+json": {
       "model_id": "09f01140e54149d6863396ed2dd875c8",
       "version_major": 2,
       "version_minor": 0
      },
      "text/plain": [
       "KlamptWidget(camera={'near': 0.1, 'target': {'y': 1.1188322004142854, 'x': 0.042176605196346695, 'z': 0.009329…"
      ]
     },
     "metadata": {},
     "output_type": "display_data"
    }
   ],
   "source": [
    "test_world = arm_n_blocks_world(False)\n",
    "my_robot = test_world.world.robot(0)\n",
    "kvis = test_world.plot()"
   ]
  },
  {
   "cell_type": "code",
   "execution_count": 3,
   "metadata": {},
   "outputs": [
    {
     "name": "stdout",
     "output_type": "stream",
     "text": [
      "robot id: 0\t name: ur5\n"
     ]
    }
   ],
   "source": [
    "for i in range(test_world.world.numRobots()):\n",
    "    my_name = test_world.world.robot(i).getName()\n",
    "    print(\"robot id: {0}\\t name: {1}\".format(i, my_name))"
   ]
  },
  {
   "cell_type": "code",
   "execution_count": 4,
   "metadata": {},
   "outputs": [
    {
     "name": "stdout",
     "output_type": "stream",
     "text": [
      "terain id: 0\t name: ground\n",
      "terain id: 1\t name: cart_main_board\n",
      "terain id: 2\t name: cart_support\n",
      "terain id: 3\t name: cart_bottom\n",
      "terain id: 4\t name: box_back\n",
      "terain id: 5\t name: box_right\n",
      "terain id: 6\t name: box_front\n",
      "terain id: 7\t name: box_left\n",
      "terain id: 8\t name: box_bottom\n"
     ]
    }
   ],
   "source": [
    "for i in range(test_world.world.numTerrains()):\n",
    "    my_name = test_world.world.terrain(i).getName()\n",
    "    print(\"terain id: {0}\\t name: {1}\".format(i, my_name))"
   ]
  },
  {
   "cell_type": "code",
   "execution_count": 5,
   "metadata": {},
   "outputs": [
    {
     "name": "stdout",
     "output_type": "stream",
     "text": [
      "rigidObject id: 0\t name: yellow_block\n",
      "rigidObject id: 1\t name: orange_block\n",
      "rigidObject id: 2\t name: red_block\n"
     ]
    }
   ],
   "source": [
    "for i in range(test_world.world.numRigidObjects()):\n",
    "    my_name = test_world.world.rigidObject(i).getName()\n",
    "    print(\"rigidObject id: {0}\\t name: {1}\".format(i, my_name))"
   ]
  },
  {
   "cell_type": "code",
   "execution_count": 6,
   "metadata": {},
   "outputs": [
    {
     "name": "stdout",
     "output_type": "stream",
     "text": [
      "Number of links: 17\t Number of drivers: 7\n"
     ]
    }
   ],
   "source": [
    "print(\"Number of links: {0}\\t Number of drivers: {1}\".format(my_robot.numLinks(), my_robot.numDrivers()))"
   ]
  },
  {
   "cell_type": "code",
   "execution_count": 7,
   "metadata": {},
   "outputs": [],
   "source": [
    "free_conf = my_robot.getConfig()\n",
    "\n",
    "object_collision_conf = deepcopy(test_world.goal_conf)\n",
    "object_collision_conf[2] += 0.5\n",
    "object_collision_conf[4] -= 0.5\n",
    "\n",
    "self_collision_conf = deepcopy(test_world.goal_conf)\n",
    "self_collision_conf[3] += 0.85"
   ]
  },
  {
   "cell_type": "code",
   "execution_count": 8,
   "metadata": {},
   "outputs": [
    {
     "ename": "AssertionError",
     "evalue": "",
     "output_type": "error",
     "traceback": [
      "\u001b[0;31m---------------------------------------------------------------------------\u001b[0m",
      "\u001b[0;31mAssertionError\u001b[0m                            Traceback (most recent call last)",
      "\u001b[0;32m<ipython-input-8-7c26a42df181>\u001b[0m in \u001b[0;36m<module>\u001b[0;34m\u001b[0m\n\u001b[1;32m      1\u001b[0m \u001b[0;32massert\u001b[0m \u001b[0mtest_world\u001b[0m\u001b[0;34m.\u001b[0m\u001b[0mtest\u001b[0m\u001b[0;34m(\u001b[0m\u001b[0mfree_conf\u001b[0m\u001b[0;34m)\u001b[0m \u001b[0;34m==\u001b[0m \u001b[0;32mTrue\u001b[0m\u001b[0;34m\u001b[0m\u001b[0;34m\u001b[0m\u001b[0m\n\u001b[1;32m      2\u001b[0m \u001b[0;32massert\u001b[0m \u001b[0mtest_world\u001b[0m\u001b[0;34m.\u001b[0m\u001b[0mtest\u001b[0m\u001b[0;34m(\u001b[0m\u001b[0mself_collision_conf\u001b[0m\u001b[0;34m)\u001b[0m \u001b[0;34m==\u001b[0m \u001b[0;32mFalse\u001b[0m\u001b[0;34m\u001b[0m\u001b[0;34m\u001b[0m\u001b[0m\n\u001b[0;32m----> 3\u001b[0;31m \u001b[0;32massert\u001b[0m \u001b[0mtest_world\u001b[0m\u001b[0;34m.\u001b[0m\u001b[0mtest\u001b[0m\u001b[0;34m(\u001b[0m\u001b[0mobject_collision_conf\u001b[0m\u001b[0;34m)\u001b[0m \u001b[0;34m==\u001b[0m \u001b[0;32mFalse\u001b[0m\u001b[0;34m\u001b[0m\u001b[0;34m\u001b[0m\u001b[0m\n\u001b[0m",
      "\u001b[0;31mAssertionError\u001b[0m: "
     ]
    }
   ],
   "source": [
    "assert test_world.test(free_conf) == True\n",
    "assert test_world.test(self_collision_conf) == False\n",
    "assert test_world.test(object_collision_conf) == False"
   ]
  }
 ],
 "metadata": {
  "kernelspec": {
   "display_name": "Python 3",
   "language": "python",
   "name": "python3"
  },
  "language_info": {
   "codemirror_mode": {
    "name": "ipython",
    "version": 3
   },
   "file_extension": ".py",
   "mimetype": "text/x-python",
   "name": "python",
   "nbconvert_exporter": "python",
   "pygments_lexer": "ipython3",
   "version": "3.6.9"
  }
 },
 "nbformat": 4,
 "nbformat_minor": 2
}
