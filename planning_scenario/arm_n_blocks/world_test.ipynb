{
 "cells": [
  {
   "cell_type": "code",
   "execution_count": 1,
   "metadata": {},
   "outputs": [
    {
     "name": "stdout",
     "output_type": "stream",
     "text": [
      "PyQt4/PyQt5 are not available... try running \"pip3 install PyQt5\"\n",
      "*** klampt.vis: using GLUT as the visualization backend ***\n",
      "***      Some functionality may not be available!       ***\n",
      "klampt.visualization: QT is not available, falling back to poorer\n",
      "GLUT interface.  Returning to another GLUT thread will not work\n",
      "properly.\n",
      "\n"
     ]
    }
   ],
   "source": [
    "import time\n",
    "from klampt import *\n",
    "from klampt.math import vectorops,so3,se3\n",
    "import math\n",
    "from IPython.display import clear_output\n",
    "import ipywidgets as widgets\n",
    "from klampt.vis.ipython import KlamptWidget\n",
    "\n",
    "from world import arm_n_blocks_world"
   ]
  },
  {
   "cell_type": "code",
   "execution_count": 2,
   "metadata": {},
   "outputs": [
    {
     "data": {
      "application/vnd.jupyter.widget-view+json": {
       "model_id": "900538ad1d614b9ba781c53e3b0d5ff1",
       "version_major": 2,
       "version_minor": 0
      },
      "text/plain": [
       "KlamptWidget(camera={'near': 0.1, 'target': {'y': 1.1188322004142854, 'x': 0.042176605196346695, 'z': 0.009329…"
      ]
     },
     "metadata": {},
     "output_type": "display_data"
    }
   ],
   "source": [
    "test_world = arm_n_blocks_world(False)\n",
    "test_world.plot()"
   ]
  },
  {
   "cell_type": "code",
   "execution_count": null,
   "metadata": {},
   "outputs": [],
   "source": []
  }
 ],
 "metadata": {
  "kernelspec": {
   "display_name": "Python 3",
   "language": "python",
   "name": "python3"
  },
  "language_info": {
   "codemirror_mode": {
    "name": "ipython",
    "version": 3
   },
   "file_extension": ".py",
   "mimetype": "text/x-python",
   "name": "python",
   "nbconvert_exporter": "python",
   "pygments_lexer": "ipython3",
   "version": "3.6.9"
  }
 },
 "nbformat": 4,
 "nbformat_minor": 2
}
